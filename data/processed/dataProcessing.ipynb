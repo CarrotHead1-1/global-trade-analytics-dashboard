{
 "cells": [
  {
   "cell_type": "code",
   "execution_count": 60,
   "id": "028e7926",
   "metadata": {},
   "outputs": [],
   "source": [
    "import pandas as pd\n"
   ]
  },
  {
   "cell_type": "code",
   "execution_count": 61,
   "id": "7cea4d94",
   "metadata": {},
   "outputs": [
    {
     "name": "stdout",
     "output_type": "stream",
     "text": [
      "     Country Name Country Code  \\\n",
      "0     Afghanistan          AFG   \n",
      "1     Afghanistan          AFG   \n",
      "2     Afghanistan          AFG   \n",
      "3     Afghanistan          AFG   \n",
      "4     Afghanistan          AFG   \n",
      "...           ...          ...   \n",
      "2921        World          WLD   \n",
      "2922        World          WLD   \n",
      "2923        World          WLD   \n",
      "2924        World          WLD   \n",
      "2925        World          WLD   \n",
      "\n",
      "                                            Series Name     Series Code  \\\n",
      "0                                     GDP (current US$)  NY.GDP.MKTP.CD   \n",
      "1                          GDP per capita (current US$)  NY.GDP.PCAP.CD   \n",
      "2              Exports of goods and services (% of GDP)  NE.EXP.GNFS.ZS   \n",
      "3              Imports of goods and services (% of GDP)  NE.IMP.GNFS.ZS   \n",
      "4                                      Trade (% of GDP)  NE.TRD.GNFS.ZS   \n",
      "...                                                 ...             ...   \n",
      "2921         Current account balance (BoP, current US$)  BN.CAB.XOKA.CD   \n",
      "2922              Inflation, consumer prices (annual %)  FP.CPI.TOTL.ZG   \n",
      "2923                 Gross capital formation (% of GDP)  NE.GDI.TOTL.ZS   \n",
      "2924  General government final consumption expenditu...  NE.CON.GOVT.CD   \n",
      "2925     External debt stocks, total (DOD, current US$)  DT.DOD.DECT.CD   \n",
      "\n",
      "         2000 [YR2000]     2001 [YR2001]     2002 [YR2002]     2003 [YR2003]  \\\n",
      "0     3521418059.92345  2813571753.87253  3825701438.99963  4520946818.54581   \n",
      "1     174.930991430166  138.706821676113  178.954088379235  198.871115728727   \n",
      "2                   ..                ..                ..                ..   \n",
      "3                   ..                ..                ..                ..   \n",
      "4                   ..                ..                ..                ..   \n",
      "...                ...               ...               ...               ...   \n",
      "2921                ..                ..                ..                ..   \n",
      "2922  3.43351563418767  3.83657262052543  2.90799857032207  3.02504526252236   \n",
      "2923  24.4260262055093  23.6528480264132  23.0000500317589  23.1757018685069   \n",
      "2924  5415374430205.97  5510377303676.12  5862595430660.33  6673910152501.02   \n",
      "2925                ..                ..                ..                ..   \n",
      "\n",
      "         2004 [YR2004]     2005 [YR2005]  ...     2015 [YR2015]  \\\n",
      "0     5224896718.67782  6203256538.70967  ...  19134221644.7325   \n",
      "1     221.763653873013  254.184249149336  ...  565.569730408751   \n",
      "2                   ..                ..  ...                ..   \n",
      "3                   ..                ..  ...                ..   \n",
      "4                   ..                ..  ...                ..   \n",
      "...                ...               ...  ...               ...   \n",
      "2921                ..                ..  ...                ..   \n",
      "2922  3.51799903099596  4.10725070715931  ...  1.44385719270808   \n",
      "2923  23.8883738347454  24.2742189813142  ...  25.8657609889125   \n",
      "2924   7453521142274.5  8002231569885.43  ...  12612456349126.7   \n",
      "2925                ..                ..  ...                ..   \n",
      "\n",
      "         2016 [YR2016]     2017 [YR2017]     2018 [YR2018]     2019 [YR2019]  \\\n",
      "0     18116572395.0772  18753456497.8159  18053222687.4126  18799444490.1128   \n",
      "1     522.082215583898  525.469770891619  491.337221382603    496.6025042585   \n",
      "2                   ..                ..                ..                ..   \n",
      "3                   ..                ..                ..                ..   \n",
      "4                   ..                ..                ..                ..   \n",
      "...                ...               ...               ...               ...   \n",
      "2921                ..                ..                ..                ..   \n",
      "2922  1.60553917414213  2.25427651934813  2.44258329692817  2.20607305781525   \n",
      "2923  25.5789771723722  26.0377936715526  26.5941708087367   26.562123789113   \n",
      "2924  12806043621837.8  13478305662043.7  14337204528780.8  14661438315125.9   \n",
      "2925                ..                ..                ..                ..   \n",
      "\n",
      "         2020 [YR2020]     2021 [YR2021]     2022 [YR2022]     2023 [YR2023]  \\\n",
      "0     19955929052.1496  14259995441.0759  14497243872.1337  17233051620.1117   \n",
      "1     510.787063366811  356.496214115892  357.261152798144  415.707417059086   \n",
      "2     10.4208171386207   14.342152797537  18.3800424016375  16.7751362822863   \n",
      "3     36.2890774127896    37.06956357719  54.5054272070161   50.498206993764   \n",
      "4     46.7098945514103  51.4117163747271  72.8854696086536  67.2733432760503   \n",
      "...                ...               ...               ...               ...   \n",
      "2921                ..                ..                ..                ..   \n",
      "2922   1.9056635869553   3.4754032028988  7.93092925430087  5.73316283034957   \n",
      "2923  26.4626263708915  27.1158592941471  27.4119400993193  26.5272963593156   \n",
      "2924    15240734280957  16595790911812.7  16703302582828.5  17549510993477.8   \n",
      "2925                ..                ..                ..                ..   \n",
      "\n",
      "     2024 [YR2024]  \n",
      "0               ..  \n",
      "1               ..  \n",
      "2               ..  \n",
      "3               ..  \n",
      "4               ..  \n",
      "...            ...  \n",
      "2921            ..  \n",
      "2922            ..  \n",
      "2923            ..  \n",
      "2924            ..  \n",
      "2925            ..  \n",
      "\n",
      "[2926 rows x 29 columns]\n"
     ]
    }
   ],
   "source": [
    "#load the raw data file \n",
    "df = pd.read_csv(\"152e56a6-08a1-4ff1-8400-64dbef5c2db7_Data.csv\")\n",
    "\n",
    "print(df)"
   ]
  },
  {
   "cell_type": "code",
   "execution_count": 62,
   "id": "eb0a8e66",
   "metadata": {},
   "outputs": [
    {
     "name": "stdout",
     "output_type": "stream",
     "text": [
      "  Country Name                               Series Name     2000 [YR2000]  \\\n",
      "0  Afghanistan                         GDP (current US$)  3521418059.92345   \n",
      "1  Afghanistan              GDP per capita (current US$)  174.930991430166   \n",
      "2  Afghanistan  Exports of goods and services (% of GDP)                ..   \n",
      "3  Afghanistan  Imports of goods and services (% of GDP)                ..   \n",
      "4  Afghanistan                          Trade (% of GDP)                ..   \n",
      "\n",
      "      2001 [YR2001]     2002 [YR2002]     2003 [YR2003]     2004 [YR2004]  \\\n",
      "0  2813571753.87253  3825701438.99963  4520946818.54581  5224896718.67782   \n",
      "1  138.706821676113  178.954088379235  198.871115728727  221.763653873013   \n",
      "2                ..                ..                ..                ..   \n",
      "3                ..                ..                ..                ..   \n",
      "4                ..                ..                ..                ..   \n",
      "\n",
      "      2005 [YR2005]     2006 [YR2006]     2007 [YR2007]  ...  \\\n",
      "0  6203256538.70967  6971758282.29351  9747886187.39393  ...   \n",
      "1  254.184249149336  274.218553561575  376.223152003876  ...   \n",
      "2                ..                ..                ..  ...   \n",
      "3                ..                ..                ..  ...   \n",
      "4                ..                ..                ..  ...   \n",
      "\n",
      "      2015 [YR2015]     2016 [YR2016]     2017 [YR2017]     2018 [YR2018]  \\\n",
      "0  19134221644.7325  18116572395.0772  18753456497.8159  18053222687.4126   \n",
      "1  565.569730408751  522.082215583898  525.469770891619  491.337221382603   \n",
      "2                ..                ..                ..                ..   \n",
      "3                ..                ..                ..                ..   \n",
      "4                ..                ..                ..                ..   \n",
      "\n",
      "      2019 [YR2019]     2020 [YR2020]     2021 [YR2021]     2022 [YR2022]  \\\n",
      "0  18799444490.1128  19955929052.1496  14259995441.0759  14497243872.1337   \n",
      "1    496.6025042585  510.787063366811  356.496214115892  357.261152798144   \n",
      "2                ..  10.4208171386207   14.342152797537  18.3800424016375   \n",
      "3                ..  36.2890774127896    37.06956357719  54.5054272070161   \n",
      "4                ..  46.7098945514103  51.4117163747271  72.8854696086536   \n",
      "\n",
      "      2023 [YR2023] 2024 [YR2024]  \n",
      "0  17233051620.1117            ..  \n",
      "1  415.707417059086            ..  \n",
      "2  16.7751362822863            ..  \n",
      "3   50.498206993764            ..  \n",
      "4  67.2733432760503            ..  \n",
      "\n",
      "[5 rows x 27 columns]\n"
     ]
    }
   ],
   "source": [
    "#drop metadata columns / unecassary columns \n",
    "\n",
    "df = df.drop(columns=[\"Country Code\", \"Series Code\"])\n",
    "\n",
    "print(df.head())"
   ]
  },
  {
   "cell_type": "code",
   "execution_count": 63,
   "id": "a80be5da",
   "metadata": {},
   "outputs": [
    {
     "name": "stdout",
     "output_type": "stream",
     "text": [
      "Index(['Country', 'Indicator', 'Year', 'Value'], dtype='object')\n"
     ]
    }
   ],
   "source": [
    "#un pivot the data\n",
    "df_melted = df.melt(id_vars=[\"Country Name\", \"Series Name\"], var_name=\"Year\", value_name=\"Value\")\n",
    "\n",
    "#rename columnns\n",
    "df_melted.columns = [\"Country\", \"Indicator\", \"Year\", \"Value\"]\n",
    "\n",
    "print(df_melted.columns)"
   ]
  },
  {
   "cell_type": "code",
   "execution_count": 64,
   "id": "2fadac90",
   "metadata": {},
   "outputs": [
    {
     "name": "stdout",
     "output_type": "stream",
     "text": [
      "Country      0\n",
      "Indicator    0\n",
      "Year         0\n",
      "Value        0\n",
      "dtype: int64\n",
      "Series([], dtype: int64)\n",
      "                                                                Total Records  \\\n",
      "Country     Indicator                                                           \n",
      "Afghanistan Current account balance (% of GDP)                             25   \n",
      "            Current account balance (BoP, current US$)                     25   \n",
      "            Exports of goods and services (% of GDP)                       25   \n",
      "            External debt stocks, total (DOD, current US$)                 25   \n",
      "            GDP (current US$)                                              25   \n",
      "...                                                                       ...   \n",
      "Zimbabwe    General government final consumption expenditur...             25   \n",
      "            Gross capital formation (% of GDP)                             25   \n",
      "            Imports of goods and services (% of GDP)                       25   \n",
      "            Inflation, consumer prices (annual %)                          25   \n",
      "            Trade (% of GDP)                                               25   \n",
      "\n",
      "                                                                Missing Values  \n",
      "Country     Indicator                                                           \n",
      "Afghanistan Current account balance (% of GDP)                               0  \n",
      "            Current account balance (BoP, current US$)                       0  \n",
      "            Exports of goods and services (% of GDP)                         0  \n",
      "            External debt stocks, total (DOD, current US$)                   0  \n",
      "            GDP (current US$)                                                0  \n",
      "...                                                                        ...  \n",
      "Zimbabwe    General government final consumption expenditur...               0  \n",
      "            Gross capital formation (% of GDP)                               0  \n",
      "            Imports of goods and services (% of GDP)                         0  \n",
      "            Inflation, consumer prices (annual %)                            0  \n",
      "            Trade (% of GDP)                                                 0  \n",
      "\n",
      "[2926 rows x 2 columns]\n"
     ]
    }
   ],
   "source": [
    "#count missing values \n",
    "print(df_melted.isna().sum())\n",
    "\n",
    "#\n",
    "recordByCountry = df_melted.groupby([\"Country\", \"Indicator\"]).size()\n",
    "missing = df_melted[df_melted[\"Value\"].isna()].groupby([\"Country\", \"Indicator\"]).size()\n",
    "print(missing)\n",
    "\n",
    "missing_df = pd.DataFrame({\n",
    "    \"Total Records\" : recordByCountry,\n",
    "    \"Missing Values\" : missing\n",
    "}).fillna(0)\n",
    "missing_df[\"Missing Values\"] = missing_df[\"Missing Values\"].astype(int)\n",
    "print(missing_df)\n"
   ]
  },
  {
   "cell_type": "code",
   "execution_count": null,
   "id": "cceddaf1",
   "metadata": {},
   "outputs": [
    {
     "ename": "InvalidIndexError",
     "evalue": "['Country', 'Indicator']",
     "output_type": "error",
     "traceback": [
      "\u001b[31m---------------------------------------------------------------------------\u001b[39m",
      "\u001b[31mInvalidIndexError\u001b[39m                         Traceback (most recent call last)",
      "\u001b[36mCell\u001b[39m\u001b[36m \u001b[39m\u001b[32mIn[76]\u001b[39m\u001b[32m, line 1\u001b[39m\n\u001b[32m----> \u001b[39m\u001b[32m1\u001b[39m \u001b[38;5;28mprint\u001b[39m(\u001b[43mdf_melted\u001b[49m\u001b[43m.\u001b[49m\u001b[43mloc\u001b[49m\u001b[43m[\u001b[49m\u001b[43m[\u001b[49m\u001b[33;43m\"\u001b[39;49m\u001b[33;43mCountry\u001b[39;49m\u001b[33;43m\"\u001b[39;49m\u001b[43m,\u001b[49m\u001b[43m \u001b[49m\u001b[33;43m\"\u001b[39;49m\u001b[33;43mIndicator\u001b[39;49m\u001b[33;43m\"\u001b[39;49m\u001b[43m]\u001b[49m\u001b[43m \u001b[49m\u001b[43m:\u001b[49m\u001b[43m \u001b[49m\u001b[33;43m\"\u001b[39;49m\u001b[33;43mValue\u001b[39;49m\u001b[33;43m\"\u001b[39;49m\u001b[43m]\u001b[49m\n\u001b[32m      2\u001b[39m       )\n",
      "\u001b[36mFile \u001b[39m\u001b[32mc:\\Python313\\Lib\\site-packages\\pandas\\core\\indexing.py:1191\u001b[39m, in \u001b[36m_LocationIndexer.__getitem__\u001b[39m\u001b[34m(self, key)\u001b[39m\n\u001b[32m   1189\u001b[39m maybe_callable = com.apply_if_callable(key, \u001b[38;5;28mself\u001b[39m.obj)\n\u001b[32m   1190\u001b[39m maybe_callable = \u001b[38;5;28mself\u001b[39m._check_deprecated_callable_usage(key, maybe_callable)\n\u001b[32m-> \u001b[39m\u001b[32m1191\u001b[39m \u001b[38;5;28;01mreturn\u001b[39;00m \u001b[38;5;28;43mself\u001b[39;49m\u001b[43m.\u001b[49m\u001b[43m_getitem_axis\u001b[49m\u001b[43m(\u001b[49m\u001b[43mmaybe_callable\u001b[49m\u001b[43m,\u001b[49m\u001b[43m \u001b[49m\u001b[43maxis\u001b[49m\u001b[43m=\u001b[49m\u001b[43maxis\u001b[49m\u001b[43m)\u001b[49m\n",
      "\u001b[36mFile \u001b[39m\u001b[32mc:\\Python313\\Lib\\site-packages\\pandas\\core\\indexing.py:1411\u001b[39m, in \u001b[36m_LocIndexer._getitem_axis\u001b[39m\u001b[34m(self, key, axis)\u001b[39m\n\u001b[32m   1409\u001b[39m \u001b[38;5;28;01mif\u001b[39;00m \u001b[38;5;28misinstance\u001b[39m(key, \u001b[38;5;28mslice\u001b[39m):\n\u001b[32m   1410\u001b[39m     \u001b[38;5;28mself\u001b[39m._validate_key(key, axis)\n\u001b[32m-> \u001b[39m\u001b[32m1411\u001b[39m     \u001b[38;5;28;01mreturn\u001b[39;00m \u001b[38;5;28;43mself\u001b[39;49m\u001b[43m.\u001b[49m\u001b[43m_get_slice_axis\u001b[49m\u001b[43m(\u001b[49m\u001b[43mkey\u001b[49m\u001b[43m,\u001b[49m\u001b[43m \u001b[49m\u001b[43maxis\u001b[49m\u001b[43m=\u001b[49m\u001b[43maxis\u001b[49m\u001b[43m)\u001b[49m\n\u001b[32m   1412\u001b[39m \u001b[38;5;28;01melif\u001b[39;00m com.is_bool_indexer(key):\n\u001b[32m   1413\u001b[39m     \u001b[38;5;28;01mreturn\u001b[39;00m \u001b[38;5;28mself\u001b[39m._getbool_axis(key, axis=axis)\n",
      "\u001b[36mFile \u001b[39m\u001b[32mc:\\Python313\\Lib\\site-packages\\pandas\\core\\indexing.py:1443\u001b[39m, in \u001b[36m_LocIndexer._get_slice_axis\u001b[39m\u001b[34m(self, slice_obj, axis)\u001b[39m\n\u001b[32m   1440\u001b[39m     \u001b[38;5;28;01mreturn\u001b[39;00m obj.copy(deep=\u001b[38;5;28;01mFalse\u001b[39;00m)\n\u001b[32m   1442\u001b[39m labels = obj._get_axis(axis)\n\u001b[32m-> \u001b[39m\u001b[32m1443\u001b[39m indexer = \u001b[43mlabels\u001b[49m\u001b[43m.\u001b[49m\u001b[43mslice_indexer\u001b[49m\u001b[43m(\u001b[49m\u001b[43mslice_obj\u001b[49m\u001b[43m.\u001b[49m\u001b[43mstart\u001b[49m\u001b[43m,\u001b[49m\u001b[43m \u001b[49m\u001b[43mslice_obj\u001b[49m\u001b[43m.\u001b[49m\u001b[43mstop\u001b[49m\u001b[43m,\u001b[49m\u001b[43m \u001b[49m\u001b[43mslice_obj\u001b[49m\u001b[43m.\u001b[49m\u001b[43mstep\u001b[49m\u001b[43m)\u001b[49m\n\u001b[32m   1445\u001b[39m \u001b[38;5;28;01mif\u001b[39;00m \u001b[38;5;28misinstance\u001b[39m(indexer, \u001b[38;5;28mslice\u001b[39m):\n\u001b[32m   1446\u001b[39m     \u001b[38;5;28;01mreturn\u001b[39;00m \u001b[38;5;28mself\u001b[39m.obj._slice(indexer, axis=axis)\n",
      "\u001b[36mFile \u001b[39m\u001b[32mc:\\Python313\\Lib\\site-packages\\pandas\\core\\indexes\\base.py:6662\u001b[39m, in \u001b[36mIndex.slice_indexer\u001b[39m\u001b[34m(self, start, end, step)\u001b[39m\n\u001b[32m   6618\u001b[39m \u001b[38;5;28;01mdef\u001b[39;00m\u001b[38;5;250m \u001b[39m\u001b[34mslice_indexer\u001b[39m(\n\u001b[32m   6619\u001b[39m     \u001b[38;5;28mself\u001b[39m,\n\u001b[32m   6620\u001b[39m     start: Hashable | \u001b[38;5;28;01mNone\u001b[39;00m = \u001b[38;5;28;01mNone\u001b[39;00m,\n\u001b[32m   6621\u001b[39m     end: Hashable | \u001b[38;5;28;01mNone\u001b[39;00m = \u001b[38;5;28;01mNone\u001b[39;00m,\n\u001b[32m   6622\u001b[39m     step: \u001b[38;5;28mint\u001b[39m | \u001b[38;5;28;01mNone\u001b[39;00m = \u001b[38;5;28;01mNone\u001b[39;00m,\n\u001b[32m   6623\u001b[39m ) -> \u001b[38;5;28mslice\u001b[39m:\n\u001b[32m   6624\u001b[39m \u001b[38;5;250m    \u001b[39m\u001b[33;03m\"\"\"\u001b[39;00m\n\u001b[32m   6625\u001b[39m \u001b[33;03m    Compute the slice indexer for input labels and step.\u001b[39;00m\n\u001b[32m   6626\u001b[39m \n\u001b[32m   (...)\u001b[39m\u001b[32m   6660\u001b[39m \u001b[33;03m    slice(1, 3, None)\u001b[39;00m\n\u001b[32m   6661\u001b[39m \u001b[33;03m    \"\"\"\u001b[39;00m\n\u001b[32m-> \u001b[39m\u001b[32m6662\u001b[39m     start_slice, end_slice = \u001b[38;5;28;43mself\u001b[39;49m\u001b[43m.\u001b[49m\u001b[43mslice_locs\u001b[49m\u001b[43m(\u001b[49m\u001b[43mstart\u001b[49m\u001b[43m,\u001b[49m\u001b[43m \u001b[49m\u001b[43mend\u001b[49m\u001b[43m,\u001b[49m\u001b[43m \u001b[49m\u001b[43mstep\u001b[49m\u001b[43m=\u001b[49m\u001b[43mstep\u001b[49m\u001b[43m)\u001b[49m\n\u001b[32m   6664\u001b[39m     \u001b[38;5;66;03m# return a slice\u001b[39;00m\n\u001b[32m   6665\u001b[39m     \u001b[38;5;28;01mif\u001b[39;00m \u001b[38;5;129;01mnot\u001b[39;00m is_scalar(start_slice):\n",
      "\u001b[36mFile \u001b[39m\u001b[32mc:\\Python313\\Lib\\site-packages\\pandas\\core\\indexes\\base.py:6879\u001b[39m, in \u001b[36mIndex.slice_locs\u001b[39m\u001b[34m(self, start, end, step)\u001b[39m\n\u001b[32m   6877\u001b[39m start_slice = \u001b[38;5;28;01mNone\u001b[39;00m\n\u001b[32m   6878\u001b[39m \u001b[38;5;28;01mif\u001b[39;00m start \u001b[38;5;129;01mis\u001b[39;00m \u001b[38;5;129;01mnot\u001b[39;00m \u001b[38;5;28;01mNone\u001b[39;00m:\n\u001b[32m-> \u001b[39m\u001b[32m6879\u001b[39m     start_slice = \u001b[38;5;28;43mself\u001b[39;49m\u001b[43m.\u001b[49m\u001b[43mget_slice_bound\u001b[49m\u001b[43m(\u001b[49m\u001b[43mstart\u001b[49m\u001b[43m,\u001b[49m\u001b[43m \u001b[49m\u001b[33;43m\"\u001b[39;49m\u001b[33;43mleft\u001b[39;49m\u001b[33;43m\"\u001b[39;49m\u001b[43m)\u001b[49m\n\u001b[32m   6880\u001b[39m \u001b[38;5;28;01mif\u001b[39;00m start_slice \u001b[38;5;129;01mis\u001b[39;00m \u001b[38;5;28;01mNone\u001b[39;00m:\n\u001b[32m   6881\u001b[39m     start_slice = \u001b[32m0\u001b[39m\n",
      "\u001b[36mFile \u001b[39m\u001b[32mc:\\Python313\\Lib\\site-packages\\pandas\\core\\indexes\\base.py:6798\u001b[39m, in \u001b[36mIndex.get_slice_bound\u001b[39m\u001b[34m(self, label, side)\u001b[39m\n\u001b[32m   6796\u001b[39m \u001b[38;5;66;03m# we need to look up the label\u001b[39;00m\n\u001b[32m   6797\u001b[39m \u001b[38;5;28;01mtry\u001b[39;00m:\n\u001b[32m-> \u001b[39m\u001b[32m6798\u001b[39m     slc = \u001b[38;5;28;43mself\u001b[39;49m\u001b[43m.\u001b[49m\u001b[43mget_loc\u001b[49m\u001b[43m(\u001b[49m\u001b[43mlabel\u001b[49m\u001b[43m)\u001b[49m\n\u001b[32m   6799\u001b[39m \u001b[38;5;28;01mexcept\u001b[39;00m \u001b[38;5;167;01mKeyError\u001b[39;00m \u001b[38;5;28;01mas\u001b[39;00m err:\n\u001b[32m   6800\u001b[39m     \u001b[38;5;28;01mtry\u001b[39;00m:\n",
      "\u001b[36mFile \u001b[39m\u001b[32mc:\\Python313\\Lib\\site-packages\\pandas\\core\\indexes\\range.py:418\u001b[39m, in \u001b[36mRangeIndex.get_loc\u001b[39m\u001b[34m(self, key)\u001b[39m\n\u001b[32m    416\u001b[39m \u001b[38;5;28;01mif\u001b[39;00m \u001b[38;5;28misinstance\u001b[39m(key, Hashable):\n\u001b[32m    417\u001b[39m     \u001b[38;5;28;01mraise\u001b[39;00m \u001b[38;5;167;01mKeyError\u001b[39;00m(key)\n\u001b[32m--> \u001b[39m\u001b[32m418\u001b[39m \u001b[38;5;28;43mself\u001b[39;49m\u001b[43m.\u001b[49m\u001b[43m_check_indexing_error\u001b[49m\u001b[43m(\u001b[49m\u001b[43mkey\u001b[49m\u001b[43m)\u001b[49m\n\u001b[32m    419\u001b[39m \u001b[38;5;28;01mraise\u001b[39;00m \u001b[38;5;167;01mKeyError\u001b[39;00m(key)\n",
      "\u001b[36mFile \u001b[39m\u001b[32mc:\\Python313\\Lib\\site-packages\\pandas\\core\\indexes\\base.py:6059\u001b[39m, in \u001b[36mIndex._check_indexing_error\u001b[39m\u001b[34m(self, key)\u001b[39m\n\u001b[32m   6055\u001b[39m \u001b[38;5;28;01mdef\u001b[39;00m\u001b[38;5;250m \u001b[39m\u001b[34m_check_indexing_error\u001b[39m(\u001b[38;5;28mself\u001b[39m, key):\n\u001b[32m   6056\u001b[39m     \u001b[38;5;28;01mif\u001b[39;00m \u001b[38;5;129;01mnot\u001b[39;00m is_scalar(key):\n\u001b[32m   6057\u001b[39m         \u001b[38;5;66;03m# if key is not a scalar, directly raise an error (the code below\u001b[39;00m\n\u001b[32m   6058\u001b[39m         \u001b[38;5;66;03m# would convert to numpy arrays and raise later any way) - GH29926\u001b[39;00m\n\u001b[32m-> \u001b[39m\u001b[32m6059\u001b[39m         \u001b[38;5;28;01mraise\u001b[39;00m InvalidIndexError(key)\n",
      "\u001b[31mInvalidIndexError\u001b[39m: ['Country', 'Indicator']"
     ]
    }
   ],
   "source": [
    "print(df_melted.loc[[\"Country\" : \"Indicator\"] : \"Value\"]\n",
    "      )"
   ]
  },
  {
   "cell_type": "code",
   "execution_count": 73,
   "id": "316e9bf1",
   "metadata": {},
   "outputs": [
    {
     "name": "stdout",
     "output_type": "stream",
     "text": [
      "                                               Indicator           Year  \\\n",
      "0                                      GDP (current US$)  2000 [YR2000]   \n",
      "1                           GDP per capita (current US$)  2000 [YR2000]   \n",
      "2               Exports of goods and services (% of GDP)  2000 [YR2000]   \n",
      "3               Imports of goods and services (% of GDP)  2000 [YR2000]   \n",
      "4                                       Trade (% of GDP)  2000 [YR2000]   \n",
      "...                                                  ...            ...   \n",
      "73145         Current account balance (BoP, current US$)  2024 [YR2024]   \n",
      "73146              Inflation, consumer prices (annual %)  2024 [YR2024]   \n",
      "73147                 Gross capital formation (% of GDP)  2024 [YR2024]   \n",
      "73148  General government final consumption expenditu...  2024 [YR2024]   \n",
      "73149     External debt stocks, total (DOD, current US$)  2024 [YR2024]   \n",
      "\n",
      "                  Value  \n",
      "0      3521418059.92345  \n",
      "1      174.930991430166  \n",
      "2                    ..  \n",
      "3                    ..  \n",
      "4                    ..  \n",
      "...                 ...  \n",
      "73145                ..  \n",
      "73146                ..  \n",
      "73147                ..  \n",
      "73148                ..  \n",
      "73149                ..  \n",
      "\n",
      "[73150 rows x 3 columns]\n"
     ]
    }
   ],
   "source": [
    "print(df_melted.loc[:, \"Indicator\": \"Value\"])\n"
   ]
  }
 ],
 "metadata": {
  "kernelspec": {
   "display_name": "Python 3",
   "language": "python",
   "name": "python3"
  },
  "language_info": {
   "codemirror_mode": {
    "name": "ipython",
    "version": 3
   },
   "file_extension": ".py",
   "mimetype": "text/x-python",
   "name": "python",
   "nbconvert_exporter": "python",
   "pygments_lexer": "ipython3",
   "version": "3.13.1"
  }
 },
 "nbformat": 4,
 "nbformat_minor": 5
}
